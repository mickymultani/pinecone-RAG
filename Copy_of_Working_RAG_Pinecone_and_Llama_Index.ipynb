{
  "nbformat": 4,
  "nbformat_minor": 0,
  "metadata": {
    "colab": {
      "provenance": [],
      "authorship_tag": "ABX9TyMzyIHYx6kB8Ec1sOK5lxTc",
      "include_colab_link": true
    },
    "kernelspec": {
      "name": "python3",
      "display_name": "Python 3"
    },
    "language_info": {
      "name": "python"
    },
    "widgets": {
      "application/vnd.jupyter.widget-state+json": {
        "29798354755e42449224402f5eb91e51": {
          "model_module": "@jupyter-widgets/controls",
          "model_name": "FileUploadModel",
          "model_module_version": "1.5.0",
          "state": {
            "_counter": 1,
            "_dom_classes": [],
            "_model_module": "@jupyter-widgets/controls",
            "_model_module_version": "1.5.0",
            "_model_name": "FileUploadModel",
            "_view_count": null,
            "_view_module": "@jupyter-widgets/controls",
            "_view_module_version": "1.5.0",
            "_view_name": "FileUploadView",
            "accept": ".pdf",
            "button_style": "",
            "data": [
              null
            ],
            "description": "Upload",
            "description_tooltip": null,
            "disabled": false,
            "error": "",
            "icon": "upload",
            "layout": "IPY_MODEL_4756c49eba6945b8a3486ff4b7567cd4",
            "metadata": [
              {
                "name": "hubble_focus_exoplanets_june2022.pdf",
                "type": "application/pdf",
                "size": 5319488,
                "lastModified": 1708970637692
              }
            ],
            "multiple": true,
            "style": "IPY_MODEL_f61946223a95450d8bb6764cdda1c705"
          }
        },
        "4756c49eba6945b8a3486ff4b7567cd4": {
          "model_module": "@jupyter-widgets/base",
          "model_name": "LayoutModel",
          "model_module_version": "1.2.0",
          "state": {
            "_model_module": "@jupyter-widgets/base",
            "_model_module_version": "1.2.0",
            "_model_name": "LayoutModel",
            "_view_count": null,
            "_view_module": "@jupyter-widgets/base",
            "_view_module_version": "1.2.0",
            "_view_name": "LayoutView",
            "align_content": null,
            "align_items": null,
            "align_self": null,
            "border": null,
            "bottom": null,
            "display": null,
            "flex": null,
            "flex_flow": null,
            "grid_area": null,
            "grid_auto_columns": null,
            "grid_auto_flow": null,
            "grid_auto_rows": null,
            "grid_column": null,
            "grid_gap": null,
            "grid_row": null,
            "grid_template_areas": null,
            "grid_template_columns": null,
            "grid_template_rows": null,
            "height": null,
            "justify_content": null,
            "justify_items": null,
            "left": null,
            "margin": null,
            "max_height": null,
            "max_width": null,
            "min_height": null,
            "min_width": null,
            "object_fit": null,
            "object_position": null,
            "order": null,
            "overflow": null,
            "overflow_x": null,
            "overflow_y": null,
            "padding": null,
            "right": null,
            "top": null,
            "visibility": null,
            "width": null
          }
        },
        "f61946223a95450d8bb6764cdda1c705": {
          "model_module": "@jupyter-widgets/controls",
          "model_name": "ButtonStyleModel",
          "model_module_version": "1.5.0",
          "state": {
            "_model_module": "@jupyter-widgets/controls",
            "_model_module_version": "1.5.0",
            "_model_name": "ButtonStyleModel",
            "_view_count": null,
            "_view_module": "@jupyter-widgets/base",
            "_view_module_version": "1.2.0",
            "_view_name": "StyleView",
            "button_color": null,
            "font_weight": ""
          }
        },
        "9d2134644fa64e8f8de71a294b1d1a92": {
          "model_module": "@jupyter-widgets/controls",
          "model_name": "HBoxModel",
          "model_module_version": "1.5.0",
          "state": {
            "_dom_classes": [],
            "_model_module": "@jupyter-widgets/controls",
            "_model_module_version": "1.5.0",
            "_model_name": "HBoxModel",
            "_view_count": null,
            "_view_module": "@jupyter-widgets/controls",
            "_view_module_version": "1.5.0",
            "_view_name": "HBoxView",
            "box_style": "",
            "children": [
              "IPY_MODEL_ee24991f74e94d6c811495f0cf0f4c16",
              "IPY_MODEL_016a1f03a92143a5a781a41afae7fce1",
              "IPY_MODEL_9c4a2d3161034aa3bac15c79ea4a2a2c"
            ],
            "layout": "IPY_MODEL_3f17d476fb114738bf2a495a94e51563"
          }
        },
        "ee24991f74e94d6c811495f0cf0f4c16": {
          "model_module": "@jupyter-widgets/controls",
          "model_name": "HTMLModel",
          "model_module_version": "1.5.0",
          "state": {
            "_dom_classes": [],
            "_model_module": "@jupyter-widgets/controls",
            "_model_module_version": "1.5.0",
            "_model_name": "HTMLModel",
            "_view_count": null,
            "_view_module": "@jupyter-widgets/controls",
            "_view_module_version": "1.5.0",
            "_view_name": "HTMLView",
            "description": "",
            "description_tooltip": null,
            "layout": "IPY_MODEL_ddc064c930724537bc871ef5d5c9e500",
            "placeholder": "​",
            "style": "IPY_MODEL_fb1950e26b424268b30f7c66d25915f2",
            "value": "Upserted vectors: 100%"
          }
        },
        "016a1f03a92143a5a781a41afae7fce1": {
          "model_module": "@jupyter-widgets/controls",
          "model_name": "FloatProgressModel",
          "model_module_version": "1.5.0",
          "state": {
            "_dom_classes": [],
            "_model_module": "@jupyter-widgets/controls",
            "_model_module_version": "1.5.0",
            "_model_name": "FloatProgressModel",
            "_view_count": null,
            "_view_module": "@jupyter-widgets/controls",
            "_view_module_version": "1.5.0",
            "_view_name": "ProgressView",
            "bar_style": "success",
            "description": "",
            "description_tooltip": null,
            "layout": "IPY_MODEL_f805f4c428744010a2c463c72dcf9f9f",
            "max": 100,
            "min": 0,
            "orientation": "horizontal",
            "style": "IPY_MODEL_8c3a5a9c7f54491cbb4ae88d914233f3",
            "value": 100
          }
        },
        "9c4a2d3161034aa3bac15c79ea4a2a2c": {
          "model_module": "@jupyter-widgets/controls",
          "model_name": "HTMLModel",
          "model_module_version": "1.5.0",
          "state": {
            "_dom_classes": [],
            "_model_module": "@jupyter-widgets/controls",
            "_model_module_version": "1.5.0",
            "_model_name": "HTMLModel",
            "_view_count": null,
            "_view_module": "@jupyter-widgets/controls",
            "_view_module_version": "1.5.0",
            "_view_name": "HTMLView",
            "description": "",
            "description_tooltip": null,
            "layout": "IPY_MODEL_c1cf2451ec8748489c7d03d931d6e579",
            "placeholder": "​",
            "style": "IPY_MODEL_20569d34e74249fc9af34c19f600e99c",
            "value": " 100/100 [00:34&lt;00:00, 385.77it/s]"
          }
        },
        "3f17d476fb114738bf2a495a94e51563": {
          "model_module": "@jupyter-widgets/base",
          "model_name": "LayoutModel",
          "model_module_version": "1.2.0",
          "state": {
            "_model_module": "@jupyter-widgets/base",
            "_model_module_version": "1.2.0",
            "_model_name": "LayoutModel",
            "_view_count": null,
            "_view_module": "@jupyter-widgets/base",
            "_view_module_version": "1.2.0",
            "_view_name": "LayoutView",
            "align_content": null,
            "align_items": null,
            "align_self": null,
            "border": null,
            "bottom": null,
            "display": null,
            "flex": null,
            "flex_flow": null,
            "grid_area": null,
            "grid_auto_columns": null,
            "grid_auto_flow": null,
            "grid_auto_rows": null,
            "grid_column": null,
            "grid_gap": null,
            "grid_row": null,
            "grid_template_areas": null,
            "grid_template_columns": null,
            "grid_template_rows": null,
            "height": null,
            "justify_content": null,
            "justify_items": null,
            "left": null,
            "margin": null,
            "max_height": null,
            "max_width": null,
            "min_height": null,
            "min_width": null,
            "object_fit": null,
            "object_position": null,
            "order": null,
            "overflow": null,
            "overflow_x": null,
            "overflow_y": null,
            "padding": null,
            "right": null,
            "top": null,
            "visibility": null,
            "width": null
          }
        },
        "ddc064c930724537bc871ef5d5c9e500": {
          "model_module": "@jupyter-widgets/base",
          "model_name": "LayoutModel",
          "model_module_version": "1.2.0",
          "state": {
            "_model_module": "@jupyter-widgets/base",
            "_model_module_version": "1.2.0",
            "_model_name": "LayoutModel",
            "_view_count": null,
            "_view_module": "@jupyter-widgets/base",
            "_view_module_version": "1.2.0",
            "_view_name": "LayoutView",
            "align_content": null,
            "align_items": null,
            "align_self": null,
            "border": null,
            "bottom": null,
            "display": null,
            "flex": null,
            "flex_flow": null,
            "grid_area": null,
            "grid_auto_columns": null,
            "grid_auto_flow": null,
            "grid_auto_rows": null,
            "grid_column": null,
            "grid_gap": null,
            "grid_row": null,
            "grid_template_areas": null,
            "grid_template_columns": null,
            "grid_template_rows": null,
            "height": null,
            "justify_content": null,
            "justify_items": null,
            "left": null,
            "margin": null,
            "max_height": null,
            "max_width": null,
            "min_height": null,
            "min_width": null,
            "object_fit": null,
            "object_position": null,
            "order": null,
            "overflow": null,
            "overflow_x": null,
            "overflow_y": null,
            "padding": null,
            "right": null,
            "top": null,
            "visibility": null,
            "width": null
          }
        },
        "fb1950e26b424268b30f7c66d25915f2": {
          "model_module": "@jupyter-widgets/controls",
          "model_name": "DescriptionStyleModel",
          "model_module_version": "1.5.0",
          "state": {
            "_model_module": "@jupyter-widgets/controls",
            "_model_module_version": "1.5.0",
            "_model_name": "DescriptionStyleModel",
            "_view_count": null,
            "_view_module": "@jupyter-widgets/base",
            "_view_module_version": "1.2.0",
            "_view_name": "StyleView",
            "description_width": ""
          }
        },
        "f805f4c428744010a2c463c72dcf9f9f": {
          "model_module": "@jupyter-widgets/base",
          "model_name": "LayoutModel",
          "model_module_version": "1.2.0",
          "state": {
            "_model_module": "@jupyter-widgets/base",
            "_model_module_version": "1.2.0",
            "_model_name": "LayoutModel",
            "_view_count": null,
            "_view_module": "@jupyter-widgets/base",
            "_view_module_version": "1.2.0",
            "_view_name": "LayoutView",
            "align_content": null,
            "align_items": null,
            "align_self": null,
            "border": null,
            "bottom": null,
            "display": null,
            "flex": null,
            "flex_flow": null,
            "grid_area": null,
            "grid_auto_columns": null,
            "grid_auto_flow": null,
            "grid_auto_rows": null,
            "grid_column": null,
            "grid_gap": null,
            "grid_row": null,
            "grid_template_areas": null,
            "grid_template_columns": null,
            "grid_template_rows": null,
            "height": null,
            "justify_content": null,
            "justify_items": null,
            "left": null,
            "margin": null,
            "max_height": null,
            "max_width": null,
            "min_height": null,
            "min_width": null,
            "object_fit": null,
            "object_position": null,
            "order": null,
            "overflow": null,
            "overflow_x": null,
            "overflow_y": null,
            "padding": null,
            "right": null,
            "top": null,
            "visibility": null,
            "width": null
          }
        },
        "8c3a5a9c7f54491cbb4ae88d914233f3": {
          "model_module": "@jupyter-widgets/controls",
          "model_name": "ProgressStyleModel",
          "model_module_version": "1.5.0",
          "state": {
            "_model_module": "@jupyter-widgets/controls",
            "_model_module_version": "1.5.0",
            "_model_name": "ProgressStyleModel",
            "_view_count": null,
            "_view_module": "@jupyter-widgets/base",
            "_view_module_version": "1.2.0",
            "_view_name": "StyleView",
            "bar_color": null,
            "description_width": ""
          }
        },
        "c1cf2451ec8748489c7d03d931d6e579": {
          "model_module": "@jupyter-widgets/base",
          "model_name": "LayoutModel",
          "model_module_version": "1.2.0",
          "state": {
            "_model_module": "@jupyter-widgets/base",
            "_model_module_version": "1.2.0",
            "_model_name": "LayoutModel",
            "_view_count": null,
            "_view_module": "@jupyter-widgets/base",
            "_view_module_version": "1.2.0",
            "_view_name": "LayoutView",
            "align_content": null,
            "align_items": null,
            "align_self": null,
            "border": null,
            "bottom": null,
            "display": null,
            "flex": null,
            "flex_flow": null,
            "grid_area": null,
            "grid_auto_columns": null,
            "grid_auto_flow": null,
            "grid_auto_rows": null,
            "grid_column": null,
            "grid_gap": null,
            "grid_row": null,
            "grid_template_areas": null,
            "grid_template_columns": null,
            "grid_template_rows": null,
            "height": null,
            "justify_content": null,
            "justify_items": null,
            "left": null,
            "margin": null,
            "max_height": null,
            "max_width": null,
            "min_height": null,
            "min_width": null,
            "object_fit": null,
            "object_position": null,
            "order": null,
            "overflow": null,
            "overflow_x": null,
            "overflow_y": null,
            "padding": null,
            "right": null,
            "top": null,
            "visibility": null,
            "width": null
          }
        },
        "20569d34e74249fc9af34c19f600e99c": {
          "model_module": "@jupyter-widgets/controls",
          "model_name": "DescriptionStyleModel",
          "model_module_version": "1.5.0",
          "state": {
            "_model_module": "@jupyter-widgets/controls",
            "_model_module_version": "1.5.0",
            "_model_name": "DescriptionStyleModel",
            "_view_count": null,
            "_view_module": "@jupyter-widgets/base",
            "_view_module_version": "1.2.0",
            "_view_name": "StyleView",
            "description_width": ""
          }
        },
        "44f8d4676ed04239b9c0ad9a7ed90040": {
          "model_module": "@jupyter-widgets/controls",
          "model_name": "TextModel",
          "model_module_version": "1.5.0",
          "state": {
            "_dom_classes": [],
            "_model_module": "@jupyter-widgets/controls",
            "_model_module_version": "1.5.0",
            "_model_name": "TextModel",
            "_view_count": null,
            "_view_module": "@jupyter-widgets/controls",
            "_view_module_version": "1.5.0",
            "_view_name": "TextView",
            "continuous_update": true,
            "description": "Query:",
            "description_tooltip": null,
            "disabled": false,
            "layout": "IPY_MODEL_6402ac14fafc4b349843d8c3bbe54d19",
            "placeholder": "Type your query here",
            "style": "IPY_MODEL_966ea997b03440a9a29a05ee7c3279e7",
            "value": "explain in detail what this document is about"
          }
        },
        "6402ac14fafc4b349843d8c3bbe54d19": {
          "model_module": "@jupyter-widgets/base",
          "model_name": "LayoutModel",
          "model_module_version": "1.2.0",
          "state": {
            "_model_module": "@jupyter-widgets/base",
            "_model_module_version": "1.2.0",
            "_model_name": "LayoutModel",
            "_view_count": null,
            "_view_module": "@jupyter-widgets/base",
            "_view_module_version": "1.2.0",
            "_view_name": "LayoutView",
            "align_content": null,
            "align_items": null,
            "align_self": null,
            "border": null,
            "bottom": null,
            "display": null,
            "flex": null,
            "flex_flow": null,
            "grid_area": null,
            "grid_auto_columns": null,
            "grid_auto_flow": null,
            "grid_auto_rows": null,
            "grid_column": null,
            "grid_gap": null,
            "grid_row": null,
            "grid_template_areas": null,
            "grid_template_columns": null,
            "grid_template_rows": null,
            "height": null,
            "justify_content": null,
            "justify_items": null,
            "left": null,
            "margin": null,
            "max_height": null,
            "max_width": null,
            "min_height": null,
            "min_width": null,
            "object_fit": null,
            "object_position": null,
            "order": null,
            "overflow": null,
            "overflow_x": null,
            "overflow_y": null,
            "padding": null,
            "right": null,
            "top": null,
            "visibility": null,
            "width": null
          }
        },
        "966ea997b03440a9a29a05ee7c3279e7": {
          "model_module": "@jupyter-widgets/controls",
          "model_name": "DescriptionStyleModel",
          "model_module_version": "1.5.0",
          "state": {
            "_model_module": "@jupyter-widgets/controls",
            "_model_module_version": "1.5.0",
            "_model_name": "DescriptionStyleModel",
            "_view_count": null,
            "_view_module": "@jupyter-widgets/base",
            "_view_module_version": "1.2.0",
            "_view_name": "StyleView",
            "description_width": ""
          }
        },
        "ee783abdc2d8499a99270359fe73bc45": {
          "model_module": "@jupyter-widgets/controls",
          "model_name": "ButtonModel",
          "model_module_version": "1.5.0",
          "state": {
            "_dom_classes": [],
            "_model_module": "@jupyter-widgets/controls",
            "_model_module_version": "1.5.0",
            "_model_name": "ButtonModel",
            "_view_count": null,
            "_view_module": "@jupyter-widgets/controls",
            "_view_module_version": "1.5.0",
            "_view_name": "ButtonView",
            "button_style": "",
            "description": "Query",
            "disabled": false,
            "icon": "search",
            "layout": "IPY_MODEL_43b5991dec7547fcb12e6f894c0d4951",
            "style": "IPY_MODEL_5535499eeb014d96ade33f68450bf6e4",
            "tooltip": "Click to query"
          }
        },
        "43b5991dec7547fcb12e6f894c0d4951": {
          "model_module": "@jupyter-widgets/base",
          "model_name": "LayoutModel",
          "model_module_version": "1.2.0",
          "state": {
            "_model_module": "@jupyter-widgets/base",
            "_model_module_version": "1.2.0",
            "_model_name": "LayoutModel",
            "_view_count": null,
            "_view_module": "@jupyter-widgets/base",
            "_view_module_version": "1.2.0",
            "_view_name": "LayoutView",
            "align_content": null,
            "align_items": null,
            "align_self": null,
            "border": null,
            "bottom": null,
            "display": null,
            "flex": null,
            "flex_flow": null,
            "grid_area": null,
            "grid_auto_columns": null,
            "grid_auto_flow": null,
            "grid_auto_rows": null,
            "grid_column": null,
            "grid_gap": null,
            "grid_row": null,
            "grid_template_areas": null,
            "grid_template_columns": null,
            "grid_template_rows": null,
            "height": null,
            "justify_content": null,
            "justify_items": null,
            "left": null,
            "margin": null,
            "max_height": null,
            "max_width": null,
            "min_height": null,
            "min_width": null,
            "object_fit": null,
            "object_position": null,
            "order": null,
            "overflow": null,
            "overflow_x": null,
            "overflow_y": null,
            "padding": null,
            "right": null,
            "top": null,
            "visibility": null,
            "width": null
          }
        },
        "5535499eeb014d96ade33f68450bf6e4": {
          "model_module": "@jupyter-widgets/controls",
          "model_name": "ButtonStyleModel",
          "model_module_version": "1.5.0",
          "state": {
            "_model_module": "@jupyter-widgets/controls",
            "_model_module_version": "1.5.0",
            "_model_name": "ButtonStyleModel",
            "_view_count": null,
            "_view_module": "@jupyter-widgets/base",
            "_view_module_version": "1.2.0",
            "_view_name": "StyleView",
            "button_color": null,
            "font_weight": ""
          }
        },
        "9d9bf5d6e5394edcb75fd7407ea63e44": {
          "model_module": "@jupyter-widgets/output",
          "model_name": "OutputModel",
          "model_module_version": "1.0.0",
          "state": {
            "_dom_classes": [],
            "_model_module": "@jupyter-widgets/output",
            "_model_module_version": "1.0.0",
            "_model_name": "OutputModel",
            "_view_count": null,
            "_view_module": "@jupyter-widgets/output",
            "_view_module_version": "1.0.0",
            "_view_name": "OutputView",
            "layout": "IPY_MODEL_222f1d50e7e44fbf88e4a7c370a83a6b",
            "msg_id": "",
            "outputs": [
              {
                "output_type": "stream",
                "name": "stdout",
                "text": [
                  "The document provides information about a system that astronomers have studied in detail due to its proximity to Earth, only 32 light-years away. It discusses the movement of a blob of material traveling at nearly 15,000 miles per hour within this system. Additionally, it mentions that other M dwarf systems with starlight-scattering debris disks are typically six times farther away. The document includes credits to NASA, ESA, University of Oklahoma, Eureka Scientific, and Steward Observatory for their contributions to the study.\n"
                ]
              }
            ]
          }
        },
        "222f1d50e7e44fbf88e4a7c370a83a6b": {
          "model_module": "@jupyter-widgets/base",
          "model_name": "LayoutModel",
          "model_module_version": "1.2.0",
          "state": {
            "_model_module": "@jupyter-widgets/base",
            "_model_module_version": "1.2.0",
            "_model_name": "LayoutModel",
            "_view_count": null,
            "_view_module": "@jupyter-widgets/base",
            "_view_module_version": "1.2.0",
            "_view_name": "LayoutView",
            "align_content": null,
            "align_items": null,
            "align_self": null,
            "border": null,
            "bottom": null,
            "display": null,
            "flex": null,
            "flex_flow": null,
            "grid_area": null,
            "grid_auto_columns": null,
            "grid_auto_flow": null,
            "grid_auto_rows": null,
            "grid_column": null,
            "grid_gap": null,
            "grid_row": null,
            "grid_template_areas": null,
            "grid_template_columns": null,
            "grid_template_rows": null,
            "height": null,
            "justify_content": null,
            "justify_items": null,
            "left": null,
            "margin": null,
            "max_height": null,
            "max_width": null,
            "min_height": null,
            "min_width": null,
            "object_fit": null,
            "object_position": null,
            "order": null,
            "overflow": null,
            "overflow_x": null,
            "overflow_y": null,
            "padding": null,
            "right": null,
            "top": null,
            "visibility": null,
            "width": null
          }
        }
      }
    }
  },
  "cells": [
    {
      "cell_type": "markdown",
      "metadata": {
        "id": "view-in-github",
        "colab_type": "text"
      },
      "source": [
        "<a href=\"https://colab.research.google.com/github/mickymultani/pinecone-RAG/blob/main/Copy_of_Working_RAG_Pinecone_and_Llama_Index.ipynb\" target=\"_parent\"><img src=\"https://colab.research.google.com/assets/colab-badge.svg\" alt=\"Open In Colab\"/></a>"
      ]
    },
    {
      "cell_type": "markdown",
      "metadata": {
        "id": "NGGk7Y6pFWqf"
      },
      "source": [
        "# RAG Pinecone & Llama Index\n"
      ]
    },
    {
      "cell_type": "markdown",
      "metadata": {
        "id": "4-4KqRZKChu_"
      },
      "source": [
        "# Set up environment\n",
        "Libraries and modules accurate as of July 2, 2024\n"
      ]
    },
    {
      "cell_type": "code",
      "source": [
        "!pip install -q llama-index-vector-stores-pinecone llama-index-readers-file pymupdf"
      ],
      "metadata": {
        "id": "3xEOx2Rr17cK",
        "colab": {
          "base_uri": "https://localhost:8080/"
        },
        "outputId": "af970c8d-9d6f-42b0-c12c-a5085a9da79e"
      },
      "execution_count": null,
      "outputs": [
        {
          "output_type": "stream",
          "name": "stdout",
          "text": [
            "\u001b[2K     \u001b[90m━━━━━━━━━━━━━━━━━━━━━━━━━━━━━━━━━━━━━━━━\u001b[0m \u001b[32m3.5/3.5 MB\u001b[0m \u001b[31m13.5 MB/s\u001b[0m eta \u001b[36m0:00:00\u001b[0m\n",
            "\u001b[2K     \u001b[90m━━━━━━━━━━━━━━━━━━━━━━━━━━━━━━━━━━━━━━━━\u001b[0m \u001b[32m15.4/15.4 MB\u001b[0m \u001b[31m15.9 MB/s\u001b[0m eta \u001b[36m0:00:00\u001b[0m\n",
            "\u001b[2K     \u001b[90m━━━━━━━━━━━━━━━━━━━━━━━━━━━━━━━━━━━━━━━━\u001b[0m \u001b[32m215.9/215.9 kB\u001b[0m \u001b[31m6.6 MB/s\u001b[0m eta \u001b[36m0:00:00\u001b[0m\n",
            "\u001b[2K     \u001b[90m━━━━━━━━━━━━━━━━━━━━━━━━━━━━━━━━━━━━━━━━\u001b[0m \u001b[32m290.4/290.4 kB\u001b[0m \u001b[31m10.3 MB/s\u001b[0m eta \u001b[36m0:00:00\u001b[0m\n",
            "\u001b[2K     \u001b[90m━━━━━━━━━━━━━━━━━━━━━━━━━━━━━━━━━━━━━━━━\u001b[0m \u001b[32m15.7/15.7 MB\u001b[0m \u001b[31m22.9 MB/s\u001b[0m eta \u001b[36m0:00:00\u001b[0m\n",
            "\u001b[2K     \u001b[90m━━━━━━━━━━━━━━━━━━━━━━━━━━━━━━━━━━━━━━━━\u001b[0m \u001b[32m75.6/75.6 kB\u001b[0m \u001b[31m5.2 MB/s\u001b[0m eta \u001b[36m0:00:00\u001b[0m\n",
            "\u001b[2K     \u001b[90m━━━━━━━━━━━━━━━━━━━━━━━━━━━━━━━━━━━━━━━━\u001b[0m \u001b[32m130.8/130.8 kB\u001b[0m \u001b[31m10.6 MB/s\u001b[0m eta \u001b[36m0:00:00\u001b[0m\n",
            "\u001b[2K     \u001b[90m━━━━━━━━━━━━━━━━━━━━━━━━━━━━━━━━━━━━━━━━\u001b[0m \u001b[32m327.5/327.5 kB\u001b[0m \u001b[31m15.4 MB/s\u001b[0m eta \u001b[36m0:00:00\u001b[0m\n",
            "\u001b[2K     \u001b[90m━━━━━━━━━━━━━━━━━━━━━━━━━━━━━━━━━━━━━━━━\u001b[0m \u001b[32m1.1/1.1 MB\u001b[0m \u001b[31m41.9 MB/s\u001b[0m eta \u001b[36m0:00:00\u001b[0m\n",
            "\u001b[2K     \u001b[90m━━━━━━━━━━━━━━━━━━━━━━━━━━━━━━━━━━━━━━━━\u001b[0m \u001b[32m77.9/77.9 kB\u001b[0m \u001b[31m2.7 MB/s\u001b[0m eta \u001b[36m0:00:00\u001b[0m\n",
            "\u001b[2K     \u001b[90m━━━━━━━━━━━━━━━━━━━━━━━━━━━━━━━━━━━━━━━━\u001b[0m \u001b[32m58.3/58.3 kB\u001b[0m \u001b[31m660.5 kB/s\u001b[0m eta \u001b[36m0:00:00\u001b[0m\n",
            "\u001b[2K     \u001b[90m━━━━━━━━━━━━━━━━━━━━━━━━━━━━━━━━━━━━━━━━\u001b[0m \u001b[32m49.2/49.2 kB\u001b[0m \u001b[31m3.2 MB/s\u001b[0m eta \u001b[36m0:00:00\u001b[0m\n",
            "\u001b[?25h"
          ]
        }
      ]
    },
    {
      "cell_type": "code",
      "source": [
        "!pip install -q llama-index==0.10.36 pinecone-client[grpc]==3.0.2"
      ],
      "metadata": {
        "id": "n4h38SYe2DUW",
        "colab": {
          "base_uri": "https://localhost:8080/"
        },
        "outputId": "0607564c-5164-43e8-a5a2-5d013785e979"
      },
      "execution_count": null,
      "outputs": [
        {
          "output_type": "stream",
          "name": "stdout",
          "text": [
            "\u001b[2K     \u001b[90m━━━━━━━━━━━━━━━━━━━━━━━━━━━━━━━━━━━━━━━━\u001b[0m \u001b[32m201.4/201.4 kB\u001b[0m \u001b[31m3.9 MB/s\u001b[0m eta \u001b[36m0:00:00\u001b[0m\n",
            "\u001b[2K     \u001b[90m━━━━━━━━━━━━━━━━━━━━━━━━━━━━━━━━━━━━━━━━\u001b[0m \u001b[32m2.0/2.0 MB\u001b[0m \u001b[31m33.0 MB/s\u001b[0m eta \u001b[36m0:00:00\u001b[0m\n",
            "\u001b[2K     \u001b[90m━━━━━━━━━━━━━━━━━━━━━━━━━━━━━━━━━━━━━━━━\u001b[0m \u001b[32m1.3/1.3 MB\u001b[0m \u001b[31m29.0 MB/s\u001b[0m eta \u001b[36m0:00:00\u001b[0m\n",
            "\u001b[2K     \u001b[90m━━━━━━━━━━━━━━━━━━━━━━━━━━━━━━━━━━━━━━━━\u001b[0m \u001b[32m141.9/141.9 kB\u001b[0m \u001b[31m6.9 MB/s\u001b[0m eta \u001b[36m0:00:00\u001b[0m\n",
            "\u001b[?25h"
          ]
        }
      ]
    },
    {
      "cell_type": "code",
      "source": [
        "import os\n",
        "import re\n",
        "import fitz\n",
        "import urllib.parse\n",
        "from pathlib import Path\n",
        "from ipywidgets import widgets, interactive, Output\n",
        "from google.colab import files\n",
        "from llama_index.core import SimpleDirectoryReader, VectorStoreIndex\n",
        "from llama_index.vector_stores.pinecone import PineconeVectorStore\n",
        "from IPython.display import Markdown, display\n",
        "from llama_index.core.ingestion import IngestionPipeline\n",
        "from llama_index.core.node_parser import SemanticSplitterNodeParser\n",
        "from llama_index.embeddings.openai import OpenAIEmbedding\n",
        "from pinecone.grpc import PineconeGRPC as Pinecone\n",
        "from pinecone import ServerlessSpec\n",
        "from llama_index.core.retrievers import VectorIndexRetriever\n",
        "from llama_index.core.query_engine import RetrieverQueryEngine\n",
        "from llama_index.readers.file import (\n",
        "    PDFReader,\n",
        "    DocxReader,\n",
        "    HWPReader,\n",
        "    EpubReader,\n",
        "    FlatReader,\n",
        "    HTMLTagReader,\n",
        "    ImageReader,\n",
        "    IPYNBReader,\n",
        "    MarkdownReader,\n",
        "    MboxReader,\n",
        "    PptxReader,\n",
        "    PandasCSVReader,\n",
        "    PyMuPDFReader,\n",
        "    XMLReader,\n",
        "    PagedCSVReader,\n",
        "    CSVReader,\n",
        ")\n"
      ],
      "metadata": {
        "id": "ZK8UT8X1xgBP"
      },
      "execution_count": null,
      "outputs": []
    },
    {
      "cell_type": "code",
      "execution_count": null,
      "metadata": {
        "id": "lghB__9ECB7a"
      },
      "outputs": [],
      "source": [
        "%env PINECONE_API_KEY=xxxxxxxxx\n",
        "%env OPENAI_API_KEY=xxxxxxxxx\n",
        "pinecone_api_key = os.environ.get('PINECONE_API_KEY')\n",
        "openai_api_key = os.environ.get('OPENAI_API_KEY')"
      ]
    },
    {
      "cell_type": "code",
      "source": [
        "# Initialize Pinecone and OpenAI\n",
        "pc = Pinecone(api_key=pinecone_api_key)\n",
        "index_name = \"llama-rag\"\n",
        "pc.create_index(\n",
        "    index_name,\n",
        "    dimension=1536,\n",
        "    spec=ServerlessSpec(cloud=\"aws\", region=\"us-east-1\"),\n",
        ")\n",
        "pinecone_index = pc.Index(index_name)\n",
        "vector_store = PineconeVectorStore(pinecone_index=pinecone_index)\n",
        "embed_model = OpenAIEmbedding(api_key=openai_api_key)\n",
        "\n",
        "\n"
      ],
      "metadata": {
        "id": "AIRyTzNg2uDo"
      },
      "execution_count": null,
      "outputs": []
    },
    {
      "cell_type": "code",
      "source": [
        "# Define the ingestion pipeline\n",
        "pipeline = IngestionPipeline(\n",
        "    transformations=[\n",
        "        SemanticSplitterNodeParser(\n",
        "            buffer_size=1,\n",
        "            breakpoint_percentile_threshold=95,\n",
        "            embed_model=OpenAIEmbedding(api_key=openai_api_key),\n",
        "        ),\n",
        "        OpenAIEmbedding(api_key=openai_api_key),\n",
        "    ],\n",
        "    vector_store=vector_store  # Make sure vector_store is defined\n",
        ")\n",
        "\n",
        "# sanatize\n",
        "def clean_up_text(content: str) -> str:\n",
        "    content = re.sub(r'(\\w+)-\\n(\\w+)', r'\\1\\2', content)\n",
        "    unwanted_patterns = [\n",
        "        \"\\\\n\", \"  —\", \"——————————\", \"—————————\", \"—————\",\n",
        "        r'\\\\u[\\dA-Fa-f]{4}', r'\\uf075', r'\\uf0b7'\n",
        "    ]\n",
        "    for pattern in unwanted_patterns:\n",
        "        content = re.sub(pattern, \"\", content)\n",
        "    content = re.sub(r'(\\w)\\s*-\\s*(\\w)', r'\\1-\\2', content)\n",
        "    content = re.sub(r'\\s+', ' ', content)\n",
        "    return content\n",
        "\n",
        "# Function to process documents and upload to Pinecone\n",
        "def process_documents(file_paths, file_extension, reader):\n",
        "    documents = []\n",
        "    parser = reader()\n",
        "    for file_path in file_paths:\n",
        "        loaded_docs = parser.load_data(file_path)  # Assuming this returns a list of documents\n",
        "        for doc in loaded_docs:\n",
        "            cleaned_text = clean_up_text(doc.text)\n",
        "            doc.text = cleaned_text\n",
        "            doc.metadata.update({\"authors\": [], \"title\": \"Uploaded Document\"})\n",
        "            documents.append(doc)\n",
        "\n",
        "    pipeline.run(documents=documents)\n",
        "\n",
        "    return f\"Files with {file_extension} uploaded and indexed successfully!\"\n",
        "\n",
        "\n",
        "\n",
        "# Function to handle file upload event\n",
        "def on_file_upload(change):\n",
        "    uploaded_files = change['new']\n",
        "    for filename in uploaded_files.keys():\n",
        "        content = uploaded_files[filename]['content']\n",
        "        with open(filename, 'wb') as f:\n",
        "            f.write(content)\n",
        "\n",
        "        file_paths = [filename]\n",
        "        file_extension = Path(filename).suffix.lower()  # Assuming all files have the same extension\n",
        "\n",
        "        reader_map = {\n",
        "        '.pdf': PyMuPDFReader,\n",
        "        '.docx': DocxReader,\n",
        "        '.hwp': HWPReader,\n",
        "        '.epub': EpubReader,\n",
        "        '.txt': FlatReader,\n",
        "        '.html': HTMLTagReader,\n",
        "        '.jpg': ImageReader,\n",
        "        '.jpeg': ImageReader,\n",
        "        '.png': ImageReader,\n",
        "        '.ipynb': IPYNBReader,\n",
        "        '.md': MarkdownReader,\n",
        "        '.mbox': MboxReader,\n",
        "        '.pptx': PptxReader,\n",
        "        '.csv': PandasCSVReader,\n",
        "        '.xml': XMLReader,\n",
        "        '.csv': PagedCSVReader,\n",
        "        '.csv': CSVReader,\n",
        "         }\n",
        "        if file_extension in reader_map:\n",
        "            reader = reader_map[file_extension]\n",
        "            upload_message = process_documents(file_paths, file_extension, reader)\n",
        "            print(upload_message)\n",
        "        else:\n",
        "            print(f\"Unsupported file format: {file_extension}\")\n",
        "\n",
        "# Create file upload widget and observe changes\n",
        "upload_widget = widgets.FileUpload(accept='.pdf', multiple=True)  # Adjust accept attribute as needed\n",
        "upload_widget.observe(on_file_upload, names='value')\n",
        "display(upload_widget)"
      ],
      "metadata": {
        "id": "uev8rhTxBQ0x",
        "colab": {
          "base_uri": "https://localhost:8080/",
          "height": 98,
          "referenced_widgets": [
            "29798354755e42449224402f5eb91e51",
            "4756c49eba6945b8a3486ff4b7567cd4",
            "f61946223a95450d8bb6764cdda1c705",
            "9d2134644fa64e8f8de71a294b1d1a92",
            "ee24991f74e94d6c811495f0cf0f4c16",
            "016a1f03a92143a5a781a41afae7fce1",
            "9c4a2d3161034aa3bac15c79ea4a2a2c",
            "3f17d476fb114738bf2a495a94e51563",
            "ddc064c930724537bc871ef5d5c9e500",
            "fb1950e26b424268b30f7c66d25915f2",
            "f805f4c428744010a2c463c72dcf9f9f",
            "8c3a5a9c7f54491cbb4ae88d914233f3",
            "c1cf2451ec8748489c7d03d931d6e579",
            "20569d34e74249fc9af34c19f600e99c"
          ]
        },
        "outputId": "025986e7-df50-45e7-a5fa-c7d47dfa43d2"
      },
      "execution_count": null,
      "outputs": [
        {
          "output_type": "display_data",
          "data": {
            "text/plain": [
              "FileUpload(value={}, accept='.pdf', description='Upload', multiple=True)"
            ],
            "application/vnd.jupyter.widget-view+json": {
              "version_major": 2,
              "version_minor": 0,
              "model_id": "29798354755e42449224402f5eb91e51"
            }
          },
          "metadata": {}
        },
        {
          "output_type": "display_data",
          "data": {
            "text/plain": [
              "Upserted vectors:   0%|          | 0/100 [00:00<?, ?it/s]"
            ],
            "application/vnd.jupyter.widget-view+json": {
              "version_major": 2,
              "version_minor": 0,
              "model_id": "9d2134644fa64e8f8de71a294b1d1a92"
            }
          },
          "metadata": {}
        },
        {
          "output_type": "stream",
          "name": "stdout",
          "text": [
            "Files with .pdf uploaded and indexed successfully!\n"
          ]
        }
      ]
    },
    {
      "cell_type": "code",
      "source": [
        "# Query function\n",
        "def query_data(query):\n",
        "    vector_index = VectorStoreIndex.from_vector_store(vector_store=vector_store)\n",
        "    retriever = VectorIndexRetriever(index=vector_index, similarity_top_k=5)\n",
        "    query_engine = RetrieverQueryEngine(retriever=retriever)\n",
        "    return query_engine.query(query).response\n",
        "\n",
        "# Query input widget\n",
        "query_input = widgets.Text(\n",
        "    placeholder='Type your query here',\n",
        "    description='Query:',\n",
        "    disabled=False\n",
        ")\n",
        "\n",
        "query_button = widgets.Button(\n",
        "    description='Query',\n",
        "    tooltip='Click to query',\n",
        "    icon='search'\n",
        ")\n",
        "\n",
        "output_area = widgets.Output()\n",
        "\n",
        "def on_query_button_clicked(b):\n",
        "    output_area.clear_output()\n",
        "    response = query_data(query_input.value)\n",
        "    with output_area:\n",
        "        print(response)\n",
        "\n",
        "query_button.on_click(on_query_button_clicked)\n",
        "\n",
        "# Display widgets\n",
        "display(query_input, query_button, output_area)\n"
      ],
      "metadata": {
        "id": "qBKj0Xqcel93",
        "colab": {
          "base_uri": "https://localhost:8080/",
          "height": 116,
          "referenced_widgets": [
            "44f8d4676ed04239b9c0ad9a7ed90040",
            "6402ac14fafc4b349843d8c3bbe54d19",
            "966ea997b03440a9a29a05ee7c3279e7",
            "ee783abdc2d8499a99270359fe73bc45",
            "43b5991dec7547fcb12e6f894c0d4951",
            "5535499eeb014d96ade33f68450bf6e4",
            "9d9bf5d6e5394edcb75fd7407ea63e44",
            "222f1d50e7e44fbf88e4a7c370a83a6b"
          ]
        },
        "outputId": "c296d6f8-20a5-4712-8642-975a79ff7a65"
      },
      "execution_count": null,
      "outputs": [
        {
          "output_type": "display_data",
          "data": {
            "text/plain": [
              "Text(value='', description='Query:', placeholder='Type your query here')"
            ],
            "application/vnd.jupyter.widget-view+json": {
              "version_major": 2,
              "version_minor": 0,
              "model_id": "44f8d4676ed04239b9c0ad9a7ed90040"
            }
          },
          "metadata": {}
        },
        {
          "output_type": "display_data",
          "data": {
            "text/plain": [
              "Button(description='Query', icon='search', style=ButtonStyle(), tooltip='Click to query')"
            ],
            "application/vnd.jupyter.widget-view+json": {
              "version_major": 2,
              "version_minor": 0,
              "model_id": "ee783abdc2d8499a99270359fe73bc45"
            }
          },
          "metadata": {}
        },
        {
          "output_type": "display_data",
          "data": {
            "text/plain": [
              "Output()"
            ],
            "application/vnd.jupyter.widget-view+json": {
              "version_major": 2,
              "version_minor": 0,
              "model_id": "9d9bf5d6e5394edcb75fd7407ea63e44"
            }
          },
          "metadata": {}
        }
      ]
    }
  ]
}